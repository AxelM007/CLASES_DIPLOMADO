{
  "nbformat": 4,
  "nbformat_minor": 0,
  "metadata": {
    "colab": {
      "provenance": [],
      "authorship_tag": "ABX9TyPaB1B2LHj7XS1fY8SnASbk",
      "include_colab_link": true
    },
    "kernelspec": {
      "name": "python3",
      "display_name": "Python 3"
    },
    "language_info": {
      "name": "python"
    }
  },
  "cells": [
    {
      "cell_type": "markdown",
      "metadata": {
        "id": "view-in-github",
        "colab_type": "text"
      },
      "source": [
        "<a href=\"https://colab.research.google.com/github/AxelM007/CLASES_DIPLOMADO/blob/main/Pruebas_de_hipotesis.ipynb\" target=\"_parent\"><img src=\"https://colab.research.google.com/assets/colab-badge.svg\" alt=\"Open In Colab\"/></a>"
      ]
    },
    {
      "cell_type": "markdown",
      "source": [
        "<div align=\"center\">\n",
        "\n",
        "### <span style=\"font-family: 'Georgia', serif; font-size: 2em; color: #2C3E50;\"><b>UNIVERSIDAD NACIONAL AUTÓNOMA DE MÉXICO</b></span>\n",
        "\n",
        "# <span style=\"font-family: 'Georgia', serif; font-size: 2.5em; color: #2C3E50;\"><b>TÉCNICAS ESTADÍSTICAS Y MINERÍA DE DATOS</b></span>\n",
        "\n",
        "---\n",
        "\n",
        "## <span style=\"font-family: 'Georgia', serif; font-size: 2em; color: #34495E;\">Pruebas de hipotesis</span>\n",
        "\n",
        "---\n",
        "\n",
        "<img src=\"https://drive.google.com/uc?export=view&id=15gJeBenxjYEpZLOGsxrjKmMTA_lbMuWR\" alt=\"Logo\" width=\"150\" style=\"border-radius: 15px; border: 2px solid #2980B9;\">\n",
        "\n",
        "<br>\n",
        "\n",
        "### <span style=\"font-family: 'Georgia', serif; font-size: 1.5em; color: #2980B9;\">EQUIPO 06:</span>\n",
        "\n",
        "<span style=\"font-family: 'Georgia', serif; font-size: 1.2em; color: #2980B9;\"><b>Ashley Pamela Texis Toledo</b></span>  \n",
        "<span style=\"font-family: 'Georgia', serif; font-size: 1.2em; color: #2980B9;\"><b>Juan Antonio Jiménez González </b></span>  \n",
        "<span style=\"font-family: 'Georgia', serif; font-size: 1.2em; color: #2980B9;\"><b>Pedro Axel Méndez López</b></span>  \n",
        "<span style=\"font-family: 'Georgia', serif; font-size: 1.2em; color: #2980B9;\"><b>Sandra Xochiquetzalli Hernández Nájera</b></span>  "
      ],
      "metadata": {
        "id": "5hxdn9xi_uAg"
      }
    },
    {
      "cell_type": "markdown",
      "source": [
        "Una prueba de hipótesis es un método estadístico que se utiliza para tomar decisiones sobre una población basándose en una muestra de datos.\n",
        "\n",
        "Hay dos tipos de hipótesis:\n",
        "\n",
        "Hipótesis nula:\n",
        "\n",
        "Es la hipótesis que se quiere refutar.\n",
        "Se denota como H0.\n",
        "Hipótesis alternativa:\n",
        "\n",
        "Es la hipótesis que se quiere demostrar.\n",
        "Se denota como H1 o Ha.\n",
        "El proceso de prueba de hipótesis implica los siguientes pasos:\n",
        "\n",
        "Plantear las hipótesis nula y alternativa.\n",
        "Recoger una muestra de datos.\n",
        "Calcular un estadístico de prueba.\n",
        "Determinar el valor p.\n",
        "Tomar una decisión: rechazar o no rechazar la hipótesis nula.\n",
        "Si el valor p es menor que el nivel de significancia (alfa), se rechaza la hipótesis nula. Si el valor p es mayor que alfa, no se rechaza la hipótesis nula."
      ],
      "metadata": {
        "id": "tLnF7Htj_-cK"
      }
    },
    {
      "cell_type": "markdown",
      "source": [
        "Ejemplo:\n",
        "Supongamos que tienes una muestra de datos que representan la cantidad de líquido en mililitros de 30 botellas de una bebida. La compañía afirma que el promedio es de 500 ml, pero tú crees que las botellas contienen menos.\n",
        "\n",
        "Vamos a realizar una prueba de hipótesis para determinar si la cantidad promedio de líquido es significativamente menor que 500 ml.\n",
        "\n",
        "Hipótesis:\n",
        "\n",
        "$H_0: \\mu=500$ (El contenido promedio es 500 ml)\n",
        "\n",
        "vs\n",
        "\n",
        "$𝐻_𝑎: \\mu<500$ (El contenido promedio es menor que 500 ml)."
      ],
      "metadata": {
        "id": "rJmf2GZ6Bhd9"
      }
    },
    {
      "source": [
        "import statsmodels.api as sm\n",
        "import numpy as np\n",
        "from scipy import stats\n",
        "\n",
        "# Datos de la muestra (cantidades de líquido en las botellas en ml)\n",
        "muestra = np.array([498, 495, 497, 499, 500, 496, 494, 497, 496, 495,\n",
        "                    499, 498, 494, 493, 496, 497, 495, 494, 493, 497,\n",
        "                    495, 498, 496, 494, 499, 497, 495, 496, 493, 495])\n",
        "\n",
        "# Media poblacional que se está probando (500 ml)\n",
        "mu_hipotetico = 500\n",
        "\n",
        "# Realizamos la prueba t de una muestra\n",
        "t_stat, p_valor = stats.ttest_1samp(muestra, mu_hipotetico)\n",
        "\n",
        "# Como es una prueba de una cola (prueba unilateral), dividimos el p-valor por 2\n",
        "p_valor_unilateral = p_valor / 2\n",
        "\n",
        "# Mostramos los resultados\n",
        "print(f\"Estadístico t: {t_stat}\")\n",
        "print(f\"p-valor (unilateral): {p_valor_unilateral}\")\n",
        "\n",
        "# Nivel de significancia\n",
        "alpha = 0.05\n",
        "\n",
        "# Decisión\n",
        "if p_valor_unilateral < alpha and t_stat < 0:\n",
        "    print(\"Rechazamos la hipótesis nula: La cantidad promedio de líquido es significativamente menor que 500 ml.\")\n",
        "else:\n",
        "    print(\"No rechazamos la hipótesis nula: No hay suficiente evidencia para concluir que la cantidad promedio sea menor que 500 ml.\")"
      ],
      "cell_type": "code",
      "metadata": {
        "colab": {
          "base_uri": "https://localhost:8080/"
        },
        "id": "WomNGGqVAFjn",
        "outputId": "1ac45f8a-84c3-403a-a3a3-755d4f942f43"
      },
      "execution_count": 11,
      "outputs": [
        {
          "output_type": "stream",
          "name": "stdout",
          "text": [
            "Estadístico t: -11.208267826294621\n",
            "p-valor (unilateral): 2.3339628599152903e-12\n",
            "Rechazamos la hipótesis nula: La cantidad promedio de líquido es significativamente menor que 500 ml.\n"
          ]
        }
      ]
    },
    {
      "cell_type": "markdown",
      "source": [],
      "metadata": {
        "id": "LnwDiI1i_0ik"
      }
    }
  ]
}
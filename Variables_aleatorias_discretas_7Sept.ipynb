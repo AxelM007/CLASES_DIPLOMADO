{
  "cells": [
    {
      "cell_type": "markdown",
      "metadata": {
        "id": "view-in-github",
        "colab_type": "text"
      },
      "source": [
        "<a href=\"https://colab.research.google.com/github/AxelM007/CLASES_DIPLOMADO/blob/main/Variables_aleatorias_discretas_7Sept.ipynb\" target=\"_parent\"><img src=\"https://colab.research.google.com/assets/colab-badge.svg\" alt=\"Open In Colab\"/></a>"
      ]
    },
    {
      "cell_type": "markdown",
      "source": [
        "<div align=\"center\">\n",
        "\n",
        "### <span style=\"font-family: 'Georgia', serif; font-size: 2em; color: #2C3E50;\"><b>UNIVERSIDAD NACIONAL AUTÓNOMA DE MÉXICO</b></span>\n",
        "\n",
        "# <span style=\"font-family: 'Georgia', serif; font-size: 2.5em; color: #2C3E50;\"><b>TÉCNICAS ESTADÍSTICAS Y MINERÍA DE DATOS</b></span>\n",
        "\n",
        "---\n",
        "\n",
        "## <span style=\"font-family: 'Georgia', serif; font-size: 2em; color: #34495E;\">Esperanza y varianza de la Uniforme</span>\n",
        "\n",
        "---\n",
        "\n",
        "<img src=\"https://drive.google.com/uc?export=view&id=15gJeBenxjYEpZLOGsxrjKmMTA_lbMuWR\" alt=\"Logo\" width=\"150\" style=\"border-radius: 15px; border: 2px solid #2980B9;\">\n",
        "\n",
        "<br>\n",
        "\n",
        "### <span style=\"font-family: 'Georgia', serif; font-size: 1.5em; color: #2980B9;\">EQUIPO 06:</span>\n",
        "\n",
        "<span style=\"font-family: 'Georgia', serif; font-size: 1.2em; color: #2980B9;\"><b>Ashley Pamela Texis Toledo</b></span>  \n",
        "<span style=\"font-family: 'Georgia', serif; font-size: 1.2em; color: #2980B9;\"><b>Juan Antonio Jiménez González </b></span>  \n",
        "<span style=\"font-family: 'Georgia', serif; font-size: 1.2em; color: #2980B9;\"><b>Pedro Axel Méndez López</b></span>  \n",
        "<span style=\"font-family: 'Georgia', serif; font-size: 1.2em; color: #2980B9;\"><b>Sandra Xochiquetzalli Hernández Nájera</b></span>  \n",
        "\n",
        "<br>\n",
        "\n",
        "### <span style=\"font-family: 'Georgia', serif; font-size: 1.2em; color: #2980B9;\">Fecha: <b>11 de septiembre de 2024</b></span>\n",
        "\n",
        "---\n",
        "\n",
        "\n",
        "</div>\n",
        "\n",
        "</div>"
      ],
      "metadata": {
        "id": "dTDvA0iHoLTL"
      },
      "id": "dTDvA0iHoLTL"
    },
    {
      "cell_type": "markdown",
      "id": "d50d92d5",
      "metadata": {
        "id": "d50d92d5"
      },
      "source": [
        "# Variables aleatorias discretas"
      ]
    },
    {
      "cell_type": "markdown",
      "id": "bd499bb5",
      "metadata": {
        "id": "bd499bb5"
      },
      "source": [
        "# Variable aleatoria uniforme discreta\n",
        "\n",
        "Una variable aleatoria $X$ tiene distribución uniforme discreta en el conjunto $\\{x_{1},\\dots,x_{n}\\}$ si su función de masa de probabilidades está dada por\n",
        "$$f_{X}(k)=\\mathbb{P}(X=k)=\\begin{cases}\n",
        "\\frac{1}{n} &\\quad \\text{si } k\\in\\{x_{1},\\dots,x_{n}\\} \\\\\n",
        "0 &\\quad \\text{en otro caso}\n",
        "\\end{cases}$$\n",
        "\n",
        "**Notación:** $X\\sim Unif(x_{1},\\dots,x_{n}).$\n",
        "\n",
        "Se llama uniforme porque cada uno de los posibles valores de $X$ tienen la misma probabilidad.\n",
        "\n",
        "Si $X\\sim Unif(x_{1},\\dots,x_{n})$, en este caso, se tiene:\n",
        "\t$$\\mathbb{E}[X] = \\sum_{k}kf_{X}(k)=\\frac{x_n + x_1}{2}.$$\n",
        "\ty\n",
        "\t$$\\text{Var}(X) = \\mathbb{E}[(X-\\mathbb{E}[X])^{2}] =\\sum_{k}(k-\\mathbb{E}[X])^{2}f_{X}(k)=\\frac{(x_n - x_1+1)^2-1}{12}$$\n",
        "\n",
        "$\\color{red}{\\text{Ejercicio 1.}}$ Verifica que, en efecto, la esperanza y varianza de una variable aleatoria geométrica está dada como antes.\n",
        "\n",
        "**Solución.**\n",
        "\n",
        "\n",
        "\n",
        "**Ejemplo** Se lleva a cabo una rifa donde los boletos están enumerados del $00$ al $99$. Si $Y$ es la variable aleatoria definida como el número del boleto ganador, entonces:  \n",
        "$$\\mathbb{P}(Y=k)=\\begin{cases}\n",
        "\t\\frac{1}{100} &\\quad \\text{si } k=00,01,\\dots,99 \\\\\n",
        "\t0 &\\quad \\text{en otro caso}\n",
        "\\end{cases}$$\n",
        "Consideremos que el premio de la rifa se determina a partir del número premiado de la siguiente forma: $X=Y+1$, donde $X$ es el monto del premio en pesos y $Y$ es el número premiado, entonces $X$ es una variable aleatoria, pues es una función de $Y$, y además se tiene\n",
        "\t$$f_{X}(k)=\\begin{cases}\n",
        "\t\t\\frac{1}{100} &\\quad \\text{si } x=1,2,\\dots,100 \\\\\n",
        "\t\t0 &\\quad \\text{en otro caso}\n",
        "\t\\end{cases}$$\n",
        "Entonces, la esperanza y varianza de $X$ están dados por:\n",
        "\t$$\\mathbb{E}[X] = \\sum_{k=1}^{100}k\\left(\\frac{1}{100}\\right) = \\frac{1}{100}\\sum_{k=1}^{100}k = \\frac{1}{100}\\left[\\frac{100(100+1)}{2}\\right] = 50.5$$\n",
        "\ty\n",
        "\t$$\\text{Var}(X) = \\mathbb{E}[X^{2}]-(\\mathbb{E}[X])^{2} = \\sum_{k=1}^{100}k^{2}\\left(\\frac{1}{100}\\right)-(50.5)^{2} = 833.25$$   \n",
        "\n",
        "\n",
        "    \n",
        "Supongamos que nos interesa calcular la probabilidad de que el premio sea mayor a $\\$80$, entonces\n",
        "\t$$\\mathbb{P}(X>80) = \\sum_{k=81}^{100}\\frac{1}{100} = \\frac{20}{100} = 0.2$$\n",
        "\tSu función de distribución esta dada por:\n",
        "\t$$F_{X}(x)=\\mathbb{P}(X\\le x)=\\begin{cases}\n",
        "\t\t0 &\\quad \\text{si } x<1 \\\\\n",
        "\t\t\\frac{x}{100} &\\quad \\text{si } x=1,2,\\dots,100\\\\ 1 &\\quad \\text{si } x>100\n",
        "\t\\end{cases}$$     "
      ]
    },
    {
      "cell_type": "code",
      "source": [
        "import numpy as np\n",
        "import matplotlib.pyplot as plt\n",
        "# Definimos los valores de la variable aleatoria Y\n",
        "Y = np.arange(0, 100)  # Los boletos de la rifa (00, 01, ..., 99)\n",
        "p_Y = np.ones_like(Y) / len(Y)  # Probabilidad uniforme"
      ],
      "metadata": {
        "id": "5vEBIjYnong6"
      },
      "id": "5vEBIjYnong6",
      "execution_count": null,
      "outputs": []
    },
    {
      "cell_type": "code",
      "source": [
        "# Definimos X como el monto del premio (Y + 1)\n",
        "X = Y + 1\n",
        "\n",
        "# Cálculo de la esperanza (E[X])\n",
        "E_X = np.sum(X * p_Y)\n",
        "print(f\"La esperanza E[X] es: {E_X}\")\n",
        "\n",
        "# Cálculo de la varianza (Var[X])\n",
        "E_X2 = np.sum(X**2 * p_Y)\n",
        "Var_X = E_X2 - E_X**2\n",
        "print(f\"La varianza Var[X] es: {Var_X}\")\n",
        "\n",
        "# Cálculo de la probabilidad de que el premio sea mayor a $80\n",
        "P_X_mayor_80 = np.sum(p_Y[X > 80])\n",
        "print(f\"La probabilidad de que el premio sea mayor a $80 es: {P_X_mayor_80}\")\n",
        "\n",
        "# Función de distribución de X\n",
        "def F_X(x):\n",
        "    if x < 1:\n",
        "        return 0\n",
        "    elif x > 100:\n",
        "        return 1\n",
        "    else:\n",
        "        return x / 100\n",
        "\n",
        "# Generamos los valores para graficar la función de distribución\n",
        "x_vals = np.arange(0, 101)\n",
        "F_vals = np.array([F_X(x) for x in x_vals])\n",
        "\n",
        "# Graficamos la función de distribución F_X(x)\n",
        "plt.step(x_vals, F_vals, where=\"post\", label='$F_X(x)$')\n",
        "plt.xlabel('x')\n",
        "plt.ylabel('$F_X(x)$')\n",
        "plt.title('Función de Distribución de $X$')\n",
        "plt.grid(True)\n",
        "plt.legend()\n",
        "plt.show()"
      ],
      "metadata": {
        "colab": {
          "base_uri": "https://localhost:8080/",
          "height": 528
        },
        "id": "ZSzVD5-Fng5J",
        "outputId": "f0c52b58-6315-419a-a3b5-b88b73057a72"
      },
      "id": "ZSzVD5-Fng5J",
      "execution_count": 1,
      "outputs": [
        {
          "output_type": "stream",
          "name": "stdout",
          "text": [
            "La esperanza E[X] es: 50.5\n",
            "La varianza Var[X] es: 833.2500000000005\n",
            "La probabilidad de que el premio sea mayor a $80 es: 0.20000000000000004\n"
          ]
        },
        {
          "output_type": "display_data",
          "data": {
            "text/plain": [
              "<Figure size 640x480 with 1 Axes>"
            ],
            "image/png": "[encoded data removed]"
          },
          "metadata": {}
        }
      ]
    },
    {
      "cell_type": "markdown",
      "source": [
        "$\\color{red}{\\text{Ejercicio 2.}}$ Dibuja a la función de distribución acumulada de la variable aleatoria:\n",
        "$$S:\\{1,2,3,4,5,6\\}^{2}\\to \\{2, 3, 4, 5, 6, 7, 8, 9, 10, 11, 12 \\}$$\n",
        "dada por\n",
        "$S(i,j)=i+j.$"
      ],
      "metadata": {
        "id": "UAQy3d5scoHX"
      },
      "id": "UAQy3d5scoHX"
    },
    {
      "cell_type": "markdown",
      "id": "1a2446e2",
      "metadata": {
        "id": "1a2446e2"
      },
      "source": [
        "## Variable aleatoria Bernoulli con parámetro $p\\in (0,1)$.\n",
        "\n",
        "El modelo probabilístico Bernoulli se aplica a un experimento cuyo espacio muestral está constituido sólo por dos resultados posibles, éxito y fracaso:\n",
        "\n",
        "Se considerará una v.a $X$ sobre el espacio muestral $$\\Omega=\\{\\text{éxito, fracaso}\\}$$\n",
        "de tal forma que\n",
        "* $X(\\{\\text{éxito}\\}) = 1$\n",
        "* $X(\\{\\text{fracaso}\\}) = 0$\n",
        "\n",
        "Las probabilidades asociadas a este modelo son:\n",
        "\n",
        "* $\\mathbb{P}(\\{\\text{éxito}\\}) = p$\n",
        "* $\\mathbb{P}(\\{\\text{fracaso}\\}) = 1-p$\n",
        "\n",
        "donde $0<p<1$.\n",
        "\n",
        "\n",
        "Entonces la función de densidad de masa de probabilidades de $X$ está dada por:\n",
        "\n",
        "$$f_{X}(k)=\\begin{cases}\n",
        "p &\\quad \\text{si } k=1 \\\\\n",
        "1-p &\\quad \\text{si } k=0\n",
        "\\end{cases}$$\n",
        "\n",
        "**Notación:** $X\\sim \\text{Ber}(p)$.\n",
        "\n",
        "Esta variable aleatoria es muy importante. En la practica es usada para modelar situaciones en las cuales hay dos posibles resultados como:\n",
        "* el estado de un teléfono en un momento dado: libre u ocupado.\n",
        "* una persona pueda estar enferma o sana de una determinada enfermedad.\n",
        "* la preferencia de una persona, la cual puede estar a favor o en contra de un candidato determinado.\n",
        "\n",
        "Mediante la combinación de variables aleatorias Bernoulli es posible construir otras variables aleatorias.\n",
        "\n",
        "### Esperanza y Varianza\n",
        "\n",
        "Si $X\\sim \\text{Ber}(p)$, entonces su esperanza es:\n",
        "\\begin{align*}\n",
        "\\mathbb{E}[X] = \\sum_{k=0}^{1}kf_{X}(k) = 1\\cdot p + 0\\cdot (1-p) = p.\n",
        "\\end{align*}\n",
        "\n",
        "Y su varianza se calcula usando,\n",
        "$$\\mathbb{E}[X^{2}] = \\sum_{k=0}^{1}k^{2}f_{X}(k) = 1^{2}\\cdot p + 0^{2}\\cdot (1-p) = p.$$\n",
        "Por lo tanto,\n",
        "$$\\text{Var}(X)=\\mathbb{E}[X^{2}]-(\\mathbb{E}[X])^{2} = p-p^{2} = p(1-p)$$\n",
        "\n"
      ]
    },
    {
      "cell_type": "markdown",
      "id": "5effadd4",
      "metadata": {
        "id": "5effadd4"
      },
      "source": [
        "## Variable aleatoria Binomial con parámetros $n$ y $p\\in (0,1)$.\n",
        "\n",
        "Decimos que una v.a $X$ tiene distribución binomial con párametros $n$ y $p$, si su función de densidad de masa de probabilidades está dada por:\n",
        "$$\\begin{equation*}\n",
        "\tf_{X}(k)=\\begin{cases}\n",
        "\t\\binom{n}{k}p^{k}(1-p)^{n-k} &\\quad \\text{si } k=0,1,\\dots,n \\\\\n",
        "\t\\qquad 0 &\\quad \\text{en otro caso}  \n",
        "\t\\end{cases}\n",
        "\\end{equation*}$$\n",
        "donde $n$ es un entero positivo y $0< p< 1$.\n",
        "\n",
        "La esperanza de $X$ es:\n",
        "\\begin{align*}\n",
        "\\mathbb{E}[X]&= \\sum_{k \\mathop = 0}^n k \\binom n k p^k (1-p)^{n - k}\\\\\n",
        "&=\\sum_{k \\mathop = 1}^n k \\binom n k p^k (1-p)^{n - k}\\\\\n",
        "&= \\sum_{k \\mathop = 1}^n n \\binom {n - 1} {k - 1} p^k (1-p)^{n - k}\\\\\n",
        "&= n p \\sum_{k \\mathop = 1}^n \\binom {n - 1} {k - 1} p^{k - 1} (1-p)^{( {n - 1}) - ( {k - 1}) }\\\\\n",
        "&=n p \\sum_{j \\mathop = 0}^m \\binom m j p^j (1-p)^{m - j}\\\\\n",
        "&=np\n",
        "\\end{align*}\n",
        "\n",
        "Ahora,\n",
        "\\begin{align*}\n",
        "\\mathbb{E}[X^2]&= \\sum_{k \\mathop = 0}^n k^2 \\binom n k p^k (1-p)^{n - k}\\\\\n",
        "&=\\sum_{k \\mathop = 0}^n k n \\binom {n - 1} {k - 1} p^k (1-p)^{n - k}\\\\\n",
        "&= n p \\sum_{k \\mathop = 1}^n k \\binom {n - 1} {k - 1} p^{k - 1} (1-p)^{({n - 1}) - ({k - 1}) }\\\\\n",
        "&= n p \\sum_{j \\mathop = 0}^m ({j + 1}) \\binom m j p^j (1-p)^{m - j}\\\\\n",
        "&=n p \\left( {\\sum_{j \\mathop = 0}^m j \\binom m j p^j (1-p)^{m - j} + \\sum_{j \\mathop = 0}^m \\binom m j p^j (1-p)^{m - j} }\\right)\\\\\n",
        "&=n p \\left( {\\sum_{j \\mathop = 0}^m m \\binom {m - 1} {j - 1} p^j (1-p)^{m - j} + \\sum_{j \\mathop = 0}^m \\binom m j p^j (1-p)^{m - j} }\\right)\\\\\n",
        "&= n p \\left( (n - 1) p \\sum_{j \\mathop = 1}^m \\binom {m - 1}{j - 1} p^{j - 1} (1-p)^{( {m - 1}) - ({j - 1}) } + \\sum_{j \\mathop = 0}^m \\binom m j p^j (1-p)^{m - j}\\right) \\\\\n",
        "&= n p \\left( (n - 1) p (p + (1-p))^{m - 1} + (p + (1-p))^m\\right)\\\\\n",
        "&= n p ((n - 1) p + 1)\\\\\n",
        "&= (np)^2 +np(1-p),\n",
        "\\end{align*}\n",
        "\n",
        "por lo que la varianza de $X$ es:\n",
        "$$\\text{Var}(X)=np(1-p).$$\n",
        "\n",
        "\n",
        "**Ejemplo** Una moneda no justa se tira 6 veces, donde la probabilidad de obtener sol es de $0.3$. Sea $X$ el número de veces que cae sol, entonces $X$ tiene una distribución binomial con parámetros $n=6$ y $p=0.3$. Por lo que\n",
        "$$\\begin{align*}\n",
        "\\mathbb{P}(X=2) &= \\binom{6}{2}(0.3)^{2}(0.7)^{4}=0.3241 \\\\\n",
        "\\mathbb{P}(X=3) &= \\binom{6}{3}(0.3)^{3}(0.7)^{3}=0.1852 \\\\\n",
        "\\mathbb{P}(1<X\\le 5) &= \\mathbb{P}(X=2)+\\mathbb{P}(X=3)+\\mathbb{P}(X=4)+\\mathbb{P}(X=5) \\\\\n",
        "\t\t\t&= 0.3241 + 0.1852 + \\binom{6}{4}(0.3)^{4}(0.7)^{2} + \\binom{6}{5}(0.3)^{5}(0.7)^{1} \\\\\n",
        "\t\t\t&= 0.5093 + 0.0595 + 0.0102 = 0.579\n",
        "\\end{align*}$$"
      ]
    },
    {
      "cell_type": "code",
      "source": [
        "from scipy.stats import binom\n",
        "\n",
        "# Parámetros de la distribución binomial\n",
        "n = 6  # Número de lanzamientos\n",
        "p = 0.3  # Probabilidad de éxito (caer sol)\n",
        "\n",
        "# Valores posibles de la variable aleatoria X\n",
        "X = np.arange(0, n + 1)\n",
        "\n",
        "# Función de masa de probabilidad P(X = k)\n",
        "p_X = binom.pmf(X, n, p)\n",
        "\n",
        "# Mostrar las probabilidades de algunos eventos\n",
        "P_X_2 = binom.pmf(2, n, p)\n",
        "P_X_3 = binom.pmf(3, n, p)\n",
        "P_1_X_le_5 = np.sum(binom.pmf(np.arange(2, 6), n, p))\n",
        "\n",
        "print(f\"Probabilidad de que X=2: {P_X_2:.4f}\")\n",
        "print(f\"Probabilidad de que X=3: {P_X_3:.4f}\")\n",
        "print(f\"Probabilidad de que 1<X<=5: {P_1_X_le_5:.4f}\")\n",
        "\n",
        "# Cálculo de la esperanza y varianza de X\n",
        "E_X = n * p\n",
        "Var_X = n * p * (1 - p)\n",
        "print(f\"Esperanza E[X]: {E_X}\")\n",
        "print(f\"Varianza Var[X]: {Var_X}\")\n",
        "\n",
        "# Graficar la función de masa de probabilidad\n",
        "plt.bar(X, p_X, color='lightblue', label='PMF $P(X=k)$')\n",
        "plt.xlabel('Número de éxitos (X)')\n",
        "plt.ylabel('Probabilidad')\n",
        "plt.title(f'Función de Masa de Probabilidad de $X \\\\sim Binomial(n={n}, p={p})$')\n",
        "plt.grid(True)\n",
        "plt.xticks(X)\n",
        "plt.legend()\n",
        "plt.show()"
      ],
      "metadata": {
        "colab": {
          "base_uri": "https://localhost:8080/",
          "height": 566
        },
        "id": "ktPqPIjMoGCJ",
        "outputId": "afe88b9a-b145-4e03-bcd2-adc7f1fcaa52"
      },
      "id": "ktPqPIjMoGCJ",
      "execution_count": 2,
      "outputs": [
        {
          "output_type": "stream",
          "name": "stdout",
          "text": [
            "Probabilidad de que X=2: 0.3241\n",
            "Probabilidad de que X=3: 0.1852\n",
            "Probabilidad de que 1<X<=5: 0.5791\n",
            "Esperanza E[X]: 1.7999999999999998\n",
            "Varianza Var[X]: 1.2599999999999998\n"
          ]
        },
        {
          "output_type": "display_data",
          "data": {
            "text/plain": [
              "<Figure size 640x480 with 1 Axes>"
            ],
            "image/png": "[encoded data removed]"
          },
          "metadata": {}
        }
      ]
    }
  ],
  "metadata": {
    "colab": {
      "provenance": [],
      "include_colab_link": true
    },
    "kernelspec": {
      "display_name": "Python 3 (ipykernel)",
      "language": "python",
      "name": "python3"
    },
    "language_info": {
      "codemirror_mode": {
        "name": "ipython",
        "version": 3
      },
      "file_extension": ".py",
      "mimetype": "text/x-python",
      "name": "python",
      "nbconvert_exporter": "python",
      "pygments_lexer": "ipython3",
      "version": "3.9.13"
    }
  },
  "nbformat": 4,
  "nbformat_minor": 5
}
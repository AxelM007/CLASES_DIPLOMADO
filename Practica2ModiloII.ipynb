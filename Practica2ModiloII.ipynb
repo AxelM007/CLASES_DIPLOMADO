{
  "nbformat": 4,
  "nbformat_minor": 0,
  "metadata": {
    "colab": {
      "provenance": [],
      "authorship_tag": "ABX9TyMHJNPZ00+Rft8Ov+zB0bLD",
      "include_colab_link": true
    },
    "kernelspec": {
      "name": "python3",
      "display_name": "Python 3"
    },
    "language_info": {
      "name": "python"
    }
  },
  "cells": [
    {
      "cell_type": "markdown",
      "metadata": {
        "id": "view-in-github",
        "colab_type": "text"
      },
      "source": [
        "<a href=\"https://colab.research.google.com/github/AxelM007/CLASES_DIPLOMADO/blob/main/Practica2ModiloII.ipynb\" target=\"_parent\"><img src=\"https://colab.research.google.com/assets/colab-badge.svg\" alt=\"Open In Colab\"/></a>"
      ]
    },
    {
      "cell_type": "markdown",
      "source": [
        "<div align=\"center\">\n",
        "\n",
        "### <span style=\"font-family: 'Georgia', serif; font-size: 2em; color: #2C3E50;\"><b>UNIVERSIDAD NACIONAL AUTÓNOMA DE MÉXICO</b></span>\n",
        "\n",
        "# <span style=\"font-family: 'Georgia', serif; font-size: 2.5em; color: #2C3E50;\"><b>TÉCNICAS ESTADÍSTICAS Y MINERÍA DE DATOS</b></span>\n",
        "\n",
        "---\n",
        "\n",
        "## <span style=\"font-family: 'Georgia', serif; font-size: 2em; color: #34495E;\">Calcular las leyes de las variables aleatorias</span>\n",
        "\n",
        "---\n",
        "\n",
        "<img src=\"https://drive.google.com/uc?export=view&id=15gJeBenxjYEpZLOGsxrjKmMTA_lbMuWR\" alt=\"Logo\" width=\"150\" style=\"border-radius: 15px; border: 2px solid #2980B9;\">\n",
        "\n",
        "<br>\n",
        "\n",
        "### <span style=\"font-family: 'Georgia', serif; font-size: 1.5em; color: #2980B9;\">EQUIPO 06:</span>\n",
        "\n",
        "<span style=\"font-family: 'Georgia', serif; font-size: 1.2em; color: #2980B9;\"><b>Ashley Pamela Texis Toledo</b></span>  \n",
        "<span style=\"font-family: 'Georgia', serif; font-size: 1.2em; color: #2980B9;\"><b>Juan Antonio Jiménez González </b></span>  \n",
        "<span style=\"font-family: 'Georgia', serif; font-size: 1.2em; color: #2980B9;\"><b>Pedro Axel Méndez López</b></span>  \n",
        "<span style=\"font-family: 'Georgia', serif; font-size: 1.2em; color: #2980B9;\"><b>Sandra Xochiquetzalli Hernández Nájera</b></span>  \n",
        "\n",
        "<br>\n",
        "\n",
        "### <span style=\"font-family: 'Georgia', serif; font-size: 1.2em; color: #2980B9;\">Fecha: <b>11 de septiembre de 2024</b></span>\n",
        "\n",
        "---\n",
        "\n",
        "\n",
        "</div>\n",
        "\n",
        "</div>\n",
        "INSTRUCCIONES:\n",
        "\n",
        "1.   Documenta tu colab\n",
        "\n",
        "2.   Calcular la ley de las siguientes variables aleatorias\n",
        "     *   La diferencia de las caras es mayor que 1\n",
        "     *   La suma de las caras sea par\n",
        "3. Verifica en cada caso, que\n",
        "   $$\\sum_{k\\in R_{X}}\\mathbb{P}(X=k) = 1$$\n",
        "4. Gráfica y calcula la función de distribución de la v.a. S (la suma de los resultados es n)  \n",
        "     Aquí pueden utilizar Python (para los que ya tengan conocimiento previo de matplotlib) o dibujado a mano / tablet /etc\n",
        "5. Sube tu notebook a GitHub"
      ],
      "metadata": {
        "id": "Mg81W0O0VDUK"
      }
    },
    {
      "cell_type": "code",
      "execution_count": 3,
      "metadata": {
        "id": "i7wvB2yDU_Go"
      },
      "outputs": [],
      "source": [
        "# IMPORTAMOS LAS LIBRERÍAS\n",
        "import numpy as np\n",
        "import matplotlib.pyplot as plot\n",
        "from itertools import product"
      ]
    },
    {
      "cell_type": "code",
      "source": [
        "#Primero vamos a crear a nuestro espacio muestral Omega\n",
        "L = [i for i in range(1,7)] #Lista por comprensión\n",
        "#print(L)\n",
        "Omega = set(product(L, repeat=2))\n",
        "# Omega"
      ],
      "metadata": {
        "id": "_teLhqgzWr1Y"
      },
      "execution_count": 7,
      "outputs": []
    },
    {
      "cell_type": "markdown",
      "source": [
        "## Como paso **\"cero\"** vamos a definir nuestra f.d.p"
      ],
      "metadata": {
        "id": "HJqTsArJb7Hn"
      }
    },
    {
      "cell_type": "code",
      "source": [
        "from fractions import Fraction as frac\n",
        "\n",
        "def p(E): #E un evento\n",
        "  p = frac(len(E),len(Omega))\n",
        "  return p"
      ],
      "metadata": {
        "id": "R4wJIikjcHKl"
      },
      "execution_count": 19,
      "outputs": []
    },
    {
      "cell_type": "markdown",
      "source": [
        "## 1. DIFERENCIA MAYOR A 1\n",
        "\n",
        "Notemos que $S_1$ es un evento dicotomico donde o la diferencia es mayor a 1, o no lo es, entonces definiendo el evento podemos determinar la ley como una variable $Bernoulli(p)$ donde $p=\\mathbb{P}[S_1]$\n",
        "\n",
        "$$\\displaystyle \\operatorname {P} [X=x]=p^{x}(1-p)^{1-x}\\qquad x=0,1$$"
      ],
      "metadata": {
        "id": "KnNCIU9FXHeH"
      }
    },
    {
      "cell_type": "code",
      "source": [
        "# Definimos el evento tal que considere las diferencias mayores a 1\n",
        "from collections import defaultdict\n",
        "dS = defaultdict(set) #lista\n",
        "S1 = {(i, j): abs(i - j) for i, j in Omega if abs(i - j) > 1}\n",
        "S1c = Omega.difference(S1)\n",
        "print(f\"El evento S1 es: {S1}\")   # La tercera coordenada es \"S1\"\n",
        "print(f\"El evento S1c es: {S1c}\")   # La tercera coordenada es \"S1c\"\n",
        "\n"
      ],
      "metadata": {
        "colab": {
          "base_uri": "https://localhost:8080/"
        },
        "id": "7w2YFrDnXR6R",
        "outputId": "5787a478-1249-47cd-9cce-cf41a6eab28a"
      },
      "execution_count": 25,
      "outputs": [
        {
          "output_type": "stream",
          "name": "stdout",
          "text": [
            "El evento S1 es: {(3, 1): 2, (4, 6): 2, (5, 1): 4, (1, 6): 5, (2, 5): 3, (1, 3): 2, (6, 2): 4, (4, 2): 2, (3, 6): 3, (5, 3): 2, (2, 4): 2, (1, 5): 4, (6, 1): 5, (6, 4): 2, (4, 1): 3, (3, 5): 2, (5, 2): 3, (1, 4): 3, (2, 6): 4, (6, 3): 3}\n",
            "El evento S1c es: {(4, 4), (1, 2), (5, 5), (3, 4), (6, 5), (4, 3), (2, 1), (5, 4), (1, 1), (2, 3), (4, 5), (3, 3), (5, 6), (2, 2), (6, 6), (3, 2)}\n"
          ]
        }
      ]
    },
    {
      "cell_type": "code",
      "source": [
        "## Veamos ahora que la suma es efectivamente es 1\n",
        "print(p(S1)+p(S1c))"
      ],
      "metadata": {
        "colab": {
          "base_uri": "https://localhost:8080/"
        },
        "id": "m8tLkSHsem6B",
        "outputId": "0c412702-6c47-4924-896f-1e9fb93623e7"
      },
      "execution_count": 31,
      "outputs": [
        {
          "output_type": "stream",
          "name": "stdout",
          "text": [
            "1\n"
          ]
        }
      ]
    },
    {
      "cell_type": "code",
      "source": [
        "# Gráfico de barras mostrando la cantidad de eventos en S1 y S1c\n",
        "eventos = ['Diferencia > 1', 'Diferencia <= 1']\n",
        "frecuencias = [len(S1), len(S1c)]\n",
        "\n",
        "# Crear gráfico de barras\n",
        "plt.bar(eventos, frecuencias, color=['purple', 'pink'])\n",
        "plt.title('Densidad de diferencia de las Caras')\n",
        "plt.xlabel('Evento')\n",
        "plt.ylabel('Frecuencia')\n",
        "plt.show()"
      ],
      "metadata": {
        "colab": {
          "base_uri": "https://localhost:8080/",
          "height": 472
        },
        "id": "Z4NlWDdQYQ6w",
        "outputId": "16734cb5-61c1-413e-f98c-8dfe8355c2db"
      },
      "execution_count": 34,
      "outputs": [
        {
          "output_type": "display_data",
          "data": {
            "text/plain": [
              "<Figure size 640x480 with 1 Axes>"
            ],
            "image/png": "[encoded data removed]"
          },
          "metadata": {}
        }
      ]
    },
    {
      "cell_type": "markdown",
      "source": [
        "Nota: como es dicotómica la \"Ley\" está determinada simplemente por la medida de probabilidad $$\\mathbb{P}[S_1]=\\frac{|S_1|}{|\\Omega|}$$\n",
        "\n",
        "\n",
        "---"
      ],
      "metadata": {
        "id": "uL-jN_rejVEC"
      }
    },
    {
      "cell_type": "markdown",
      "source": [
        "## 1. SUMA DE CARAS PAR\n",
        "\n",
        "Notemos nuevamente que $S_2$ es un evento dicotómico donde o la suma es par, o no lo es, entonces definiendo el evento podemos determinar la ley como una variable $Bernoulli(p)$ donde $p=\\mathbb{P}[S_2]$\n"
      ],
      "metadata": {
        "id": "L1-MnkZmkD7M"
      }
    },
    {
      "cell_type": "code",
      "source": [
        "S2 = {(i, j) for i, j in Omega if abs(i - j) > 1 and (i + j) % 2 == 0}\n",
        "\n",
        "# Complemento de S1: eventos donde la diferencia es <= 1 o la suma es impar\n",
        "S2c = Omega.difference(S2)\n",
        "\n",
        "print(f\"El evento S1 es: {S2}\")   # La tercera coordenada es \"S1\"\n",
        "print(f\"El evento S1c es: {S2c}\")   # La tercera coordenada es \"S1c\""
      ],
      "metadata": {
        "colab": {
          "base_uri": "https://localhost:8080/"
        },
        "id": "KHmo2eCVk-Ba",
        "outputId": "ed7b2c23-f289-486a-d2ef-7193a5852909"
      },
      "execution_count": 39,
      "outputs": [
        {
          "output_type": "stream",
          "name": "stdout",
          "text": [
            "El evento S1 es: {(6, 2), (2, 4), (1, 5), (3, 1), (4, 6), (5, 1), (4, 2), (6, 4), (2, 6), (5, 3), (1, 3), (3, 5)}\n",
            "El evento S1c es: {(3, 4), (4, 3), (5, 4), (2, 2), (1, 6), (2, 5), (6, 5), (4, 5), (3, 3), (5, 6), (3, 6), (1, 2), (2, 1), (6, 1), (3, 2), (4, 1), (5, 2), (4, 4), (5, 5), (1, 1), (1, 4), (2, 3), (6, 6), (6, 3)}\n"
          ]
        }
      ]
    },
    {
      "cell_type": "code",
      "source": [
        "## Veamos ahora que la suma es efectivamente es 1\n",
        "print(p(S2)+p(S2c))"
      ],
      "metadata": {
        "colab": {
          "base_uri": "https://localhost:8080/"
        },
        "id": "hqIfzJtulXWj",
        "outputId": "f1383794-5782-455f-b991-f142378ef2b8"
      },
      "execution_count": 40,
      "outputs": [
        {
          "output_type": "stream",
          "name": "stdout",
          "text": [
            "1\n"
          ]
        }
      ]
    },
    {
      "cell_type": "code",
      "source": [
        "# Gráfico de barras mostrando la cantidad de eventos en S2 y S2c\n",
        "eventos = ['Suma par', 'Suma impar']\n",
        "frecuencias = [len(S2), len(S2c)]\n",
        "\n",
        "# Crear gráfico de barras\n",
        "plt.bar(eventos, frecuencias, color=['purple', 'pink'])\n",
        "plt.title('Densidad de diferencia de las Caras')\n",
        "plt.xlabel('Evento')\n",
        "plt.ylabel('Frecuencia')\n",
        "plt.show()"
      ],
      "metadata": {
        "colab": {
          "base_uri": "https://localhost:8080/",
          "height": 472
        },
        "id": "n1DiznpfloHF",
        "outputId": "a33d6139-48be-456e-d1a2-ad36c476fd04"
      },
      "execution_count": 42,
      "outputs": [
        {
          "output_type": "display_data",
          "data": {
            "text/plain": [
              "<Figure size 640x480 with 1 Axes>"
            ],
            "image/png": "[encoded data removed]"
          },
          "metadata": {}
        }
      ]
    }
  ]
}